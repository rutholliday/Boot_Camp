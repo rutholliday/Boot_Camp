{
 "cells": [
  {
   "cell_type": "code",
   "execution_count": 2,
   "metadata": {},
   "outputs": [],
   "source": [
    "# Dependencies\n",
    "import os\n",
    "import json\n",
    "from pprint import pprint\n",
    "\n",
    "# Load JSON\n",
    "filepath = os.path.join(\"..\", \"Resources\", \"youtube_response.json\")\n",
    "with open(filepath) as jsonfile:\n",
    "    json_data = json.load(jsonfile)\n",
    "    "
   ]
  },
  {
   "cell_type": "code",
   "execution_count": 3,
   "metadata": {},
   "outputs": [
    {
     "name": "stdout",
     "output_type": "stream",
     "text": [
      "{'apiVersion': '2.0', 'data': {'updated': '2010-01-07T19:58:42.949Z', 'totalItems': 800, 'startIndex': 1, 'itemsPerPage': 1, 'items': [{'id': 'hYB0mn5zh2c', 'uploaded': '2007-06-05T22:07:03.000Z', 'updated': '2010-01-07T13:26:50.000Z', 'uploader': 'GoogleDeveloperDay', 'category': 'News', 'title': 'Google Developers Day US - Maps API Introduction', 'description': 'Google Maps API Introduction ...', 'tags': ['GDD07', 'GDD07US', 'Maps'], 'thumbnail': {'default': 'http://i.ytimg.com/vi/hYB0mn5zh2c/default.jpg', 'hqDefault': 'http://i.ytimg.com/vi/hYB0mn5zh2c/hqdefault.jpg'}, 'player': {'default': 'http://www.youtube.com/watch?vu003dhYB0mn5zh2c'}, 'content': {'1': 'rtsp://v5.cache3.c.youtube.com/CiILENy.../0/0/0/video.3gp', '5': 'http://www.youtube.com/v/hYB0mn5zh2c?f...', '6': 'rtsp://v1.cache1.c.youtube.com/CiILENy.../0/0/0/video.3gp'}, 'duration': 2840, 'aspectRatio': 'widescreen', 'rating': 4.63, 'ratingCount': 68, 'viewCount': 220101, 'favoriteCount': 201, 'commentCount': 22, 'status': {'value': 'restricted', 'reason': 'limitedSyndication'}, 'accessControl': {'syndicate': 'allowed', 'commentVote': 'allowed', 'rate': 'allowed', 'list': 'allowed', 'comment': 'allowed', 'embed': 'allowed', 'videoRespond': 'moderated'}}]}}\n"
     ]
    }
   ],
   "source": [
    "print(json_data)"
   ]
  },
  {
   "cell_type": "code",
   "execution_count": 4,
   "metadata": {},
   "outputs": [
    {
     "name": "stdout",
     "output_type": "stream",
     "text": [
      "{'apiVersion': '2.0',\n",
      " 'data': {'items': [{'accessControl': {'comment': 'allowed',\n",
      "                                       'commentVote': 'allowed',\n",
      "                                       'embed': 'allowed',\n",
      "                                       'list': 'allowed',\n",
      "                                       'rate': 'allowed',\n",
      "                                       'syndicate': 'allowed',\n",
      "                                       'videoRespond': 'moderated'},\n",
      "                     'aspectRatio': 'widescreen',\n",
      "                     'category': 'News',\n",
      "                     'commentCount': 22,\n",
      "                     'content': {'1': 'rtsp://v5.cache3.c.youtube.com/CiILENy.../0/0/0/video.3gp',\n",
      "                                 '5': 'http://www.youtube.com/v/hYB0mn5zh2c?f...',\n",
      "                                 '6': 'rtsp://v1.cache1.c.youtube.com/CiILENy.../0/0/0/video.3gp'},\n",
      "                     'description': 'Google Maps API Introduction ...',\n",
      "                     'duration': 2840,\n",
      "                     'favoriteCount': 201,\n",
      "                     'id': 'hYB0mn5zh2c',\n",
      "                     'player': {'default': 'http://www.youtube.com/watch?vu003dhYB0mn5zh2c'},\n",
      "                     'rating': 4.63,\n",
      "                     'ratingCount': 68,\n",
      "                     'status': {'reason': 'limitedSyndication',\n",
      "                                'value': 'restricted'},\n",
      "                     'tags': ['GDD07', 'GDD07US', 'Maps'],\n",
      "                     'thumbnail': {'default': 'http://i.ytimg.com/vi/hYB0mn5zh2c/default.jpg',\n",
      "                                   'hqDefault': 'http://i.ytimg.com/vi/hYB0mn5zh2c/hqdefault.jpg'},\n",
      "                     'title': 'Google Developers Day US - Maps API '\n",
      "                              'Introduction',\n",
      "                     'updated': '2010-01-07T13:26:50.000Z',\n",
      "                     'uploaded': '2007-06-05T22:07:03.000Z',\n",
      "                     'uploader': 'GoogleDeveloperDay',\n",
      "                     'viewCount': 220101}],\n",
      "          'itemsPerPage': 1,\n",
      "          'startIndex': 1,\n",
      "          'totalItems': 800,\n",
      "          'updated': '2010-01-07T19:58:42.949Z'}}\n"
     ]
    }
   ],
   "source": [
    "pprint(json_data)"
   ]
  },
  {
   "cell_type": "code",
   "execution_count": 9,
   "metadata": {},
   "outputs": [
    {
     "name": "stdout",
     "output_type": "stream",
     "text": [
      "'Google Developers Day US - Maps API Introduction'\n"
     ]
    }
   ],
   "source": [
    "json_data_title = pprint(json_data['data']['items'][0]['title'])"
   ]
  },
  {
   "cell_type": "code",
   "execution_count": 11,
   "metadata": {},
   "outputs": [
    {
     "name": "stdout",
     "output_type": "stream",
     "text": [
      "4.63\n"
     ]
    }
   ],
   "source": [
    "json_data_rating = pprint(json_data['data']['items'][0]['rating'])"
   ]
  },
  {
   "cell_type": "code",
   "execution_count": 12,
   "metadata": {},
   "outputs": [
    {
     "name": "stdout",
     "output_type": "stream",
     "text": [
      "{'default': 'http://i.ytimg.com/vi/hYB0mn5zh2c/default.jpg',\n",
      " 'hqDefault': 'http://i.ytimg.com/vi/hYB0mn5zh2c/hqdefault.jpg'}\n"
     ]
    }
   ],
   "source": [
    "json_data_video_thumbnail =json_data_rating = pprint(json_data['data']['items'][0]['thumbnail'])"
   ]
  },
  {
   "cell_type": "code",
   "execution_count": 15,
   "metadata": {},
   "outputs": [
    {
     "name": "stdout",
     "output_type": "stream",
     "text": [
      "220101\n"
     ]
    }
   ],
   "source": [
    "json_data_views =json_data_rating = pprint(json_data['data']['items'][0]['viewCount'])"
   ]
  },
  {
   "cell_type": "code",
   "execution_count": null,
   "metadata": {},
   "outputs": [],
   "source": []
  }
 ],
 "metadata": {
  "kernelspec": {
   "display_name": "Python [conda env:PythonData]",
   "language": "python",
   "name": "conda-env-PythonData-py"
  },
  "language_info": {
   "codemirror_mode": {
    "name": "ipython",
    "version": 3
   },
   "file_extension": ".py",
   "mimetype": "text/x-python",
   "name": "python",
   "nbconvert_exporter": "python",
   "pygments_lexer": "ipython3",
   "version": "3.6.5"
  }
 },
 "nbformat": 4,
 "nbformat_minor": 2
}
